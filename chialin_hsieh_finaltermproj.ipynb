{
 "cells": [
  {
   "cell_type": "markdown",
   "id": "298f860d",
   "metadata": {},
   "source": [
    "## Import & Define functions"
   ]
  },
  {
   "cell_type": "code",
   "execution_count": 1,
   "id": "b3a912ac",
   "metadata": {},
   "outputs": [],
   "source": [
    "import numpy as np\n",
    "import pandas as pd\n",
    "from sklearn.preprocessing import LabelEncoder\n",
    "from sklearn import metrics\n",
    "from sklearn.ensemble import RandomForestClassifier\n",
    "from sklearn import model_selection\n",
    "from sklearn.model_selection import train_test_split\n",
    "import matplotlib.pyplot as plt\n",
    "from sklearn.naive_bayes import GaussianNB \n",
    "from sklearn.svm import LinearSVC\n",
    "from sklearn import svm\n",
    "from sklearn.metrics import confusion_matrix, accuracy_score\n",
    "from sklearn.model_selection import cross_validate\n",
    "from keras.models import Sequential\n",
    "from keras.layers import Dense\n",
    "from keras.layers import LSTM\n",
    "from matplotlib import pyplot\n",
    "from numpy import array\n",
    "import seaborn as sns\n",
    "%matplotlib inline\n",
    "import warnings\n",
    "warnings.filterwarnings('ignore')"
   ]
  },
  {
   "cell_type": "code",
   "execution_count": 2,
   "id": "1c7f4a15",
   "metadata": {},
   "outputs": [],
   "source": [
    "def getNullPercent( data ):\n",
    "    data = (data.isnull().sum()/len( data )*100)\n",
    "    data = pd.DataFrame(data.sort_values( ascending=False ) ) \n",
    "    data.columns = [\"Percent\"]     \n",
    "    data = data[ data[\"Percent\"] != 0  ]\n",
    "    return data"
   ]
  },
  {
   "cell_type": "code",
   "execution_count": 116,
   "id": "cb9d1a10",
   "metadata": {},
   "outputs": [],
   "source": [
    "def confusion_matrix_scorer(model, X, y):\n",
    "    y_pred = model.predict(X)\n",
    "    cm = confusion_matrix(y, y_pred)\n",
    "    return {'tn': cm[0, 0], 'fp': cm[0, 1],\n",
    "            'fn': cm[1, 0], 'tp': cm[1, 1]}"
   ]
  },
  {
   "cell_type": "code",
   "execution_count": 51,
   "id": "2b1c1fbb",
   "metadata": {},
   "outputs": [],
   "source": [
    "def print_confusion_matrix(y_true, y_pred):\n",
    "    cm = confusion_matrix(y_true, y_pred)\n",
    "    TPR = cm[0,0]/(cm[0,0]+cm[1,0])\n",
    "    FPR = cm[0,1]/(cm[0,1]+cm[1,1])\n",
    "    print('TP = ', cm[0,0])\n",
    "    print('FP = ', cm[0,1])\n",
    "    print('FN = ', cm[1,0])\n",
    "    print('TN = ', cm[1,1])\n",
    "    print(\"TPR = \", str(cm[0,0]/(cm[0,0]+cm[1,0])) )\n",
    "    print(\"FPR = \", str(cm[0,1]/(cm[0,1]+cm[1,1])))\n",
    "\n",
    "    return {'TP': cm[0, 0], 'FP': cm[0, 1],'FN': cm[1, 0], 'TN': cm[1, 1], 'TPR':TPR, 'FPR': FPR}"
   ]
  },
  {
   "cell_type": "markdown",
   "id": "c14faea1",
   "metadata": {},
   "source": [
    "----"
   ]
  },
  {
   "cell_type": "markdown",
   "id": "e5c3ae6f",
   "metadata": {},
   "source": [
    "## Data Cleaning"
   ]
  },
  {
   "cell_type": "code",
   "execution_count": 4,
   "id": "d4e90c7a",
   "metadata": {
    "scrolled": true
   },
   "outputs": [
    {
     "data": {
      "text/html": [
       "<div>\n",
       "<style scoped>\n",
       "    .dataframe tbody tr th:only-of-type {\n",
       "        vertical-align: middle;\n",
       "    }\n",
       "\n",
       "    .dataframe tbody tr th {\n",
       "        vertical-align: top;\n",
       "    }\n",
       "\n",
       "    .dataframe thead th {\n",
       "        text-align: right;\n",
       "    }\n",
       "</style>\n",
       "<table border=\"1\" class=\"dataframe\">\n",
       "  <thead>\n",
       "    <tr style=\"text-align: right;\">\n",
       "      <th></th>\n",
       "      <th>destination</th>\n",
       "      <th>passanger</th>\n",
       "      <th>weather</th>\n",
       "      <th>temperature</th>\n",
       "      <th>time</th>\n",
       "      <th>coupon</th>\n",
       "      <th>expiration</th>\n",
       "      <th>gender</th>\n",
       "      <th>age</th>\n",
       "      <th>maritalStatus</th>\n",
       "      <th>...</th>\n",
       "      <th>CoffeeHouse</th>\n",
       "      <th>CarryAway</th>\n",
       "      <th>RestaurantLessThan20</th>\n",
       "      <th>Restaurant20To50</th>\n",
       "      <th>toCoupon_GEQ5min</th>\n",
       "      <th>toCoupon_GEQ15min</th>\n",
       "      <th>toCoupon_GEQ25min</th>\n",
       "      <th>direction_same</th>\n",
       "      <th>direction_opp</th>\n",
       "      <th>Y</th>\n",
       "    </tr>\n",
       "  </thead>\n",
       "  <tbody>\n",
       "    <tr>\n",
       "      <th>0</th>\n",
       "      <td>No Urgent Place</td>\n",
       "      <td>Alone</td>\n",
       "      <td>Sunny</td>\n",
       "      <td>55</td>\n",
       "      <td>2PM</td>\n",
       "      <td>Restaurant(&lt;20)</td>\n",
       "      <td>1d</td>\n",
       "      <td>Female</td>\n",
       "      <td>21</td>\n",
       "      <td>Unmarried partner</td>\n",
       "      <td>...</td>\n",
       "      <td>never</td>\n",
       "      <td>NaN</td>\n",
       "      <td>4~8</td>\n",
       "      <td>1~3</td>\n",
       "      <td>1</td>\n",
       "      <td>0</td>\n",
       "      <td>0</td>\n",
       "      <td>0</td>\n",
       "      <td>1</td>\n",
       "      <td>1</td>\n",
       "    </tr>\n",
       "    <tr>\n",
       "      <th>1</th>\n",
       "      <td>No Urgent Place</td>\n",
       "      <td>Friend(s)</td>\n",
       "      <td>Sunny</td>\n",
       "      <td>80</td>\n",
       "      <td>10AM</td>\n",
       "      <td>Coffee House</td>\n",
       "      <td>2h</td>\n",
       "      <td>Female</td>\n",
       "      <td>21</td>\n",
       "      <td>Unmarried partner</td>\n",
       "      <td>...</td>\n",
       "      <td>never</td>\n",
       "      <td>NaN</td>\n",
       "      <td>4~8</td>\n",
       "      <td>1~3</td>\n",
       "      <td>1</td>\n",
       "      <td>0</td>\n",
       "      <td>0</td>\n",
       "      <td>0</td>\n",
       "      <td>1</td>\n",
       "      <td>0</td>\n",
       "    </tr>\n",
       "    <tr>\n",
       "      <th>2</th>\n",
       "      <td>No Urgent Place</td>\n",
       "      <td>Friend(s)</td>\n",
       "      <td>Sunny</td>\n",
       "      <td>80</td>\n",
       "      <td>10AM</td>\n",
       "      <td>Carry out &amp; Take away</td>\n",
       "      <td>2h</td>\n",
       "      <td>Female</td>\n",
       "      <td>21</td>\n",
       "      <td>Unmarried partner</td>\n",
       "      <td>...</td>\n",
       "      <td>never</td>\n",
       "      <td>NaN</td>\n",
       "      <td>4~8</td>\n",
       "      <td>1~3</td>\n",
       "      <td>1</td>\n",
       "      <td>1</td>\n",
       "      <td>0</td>\n",
       "      <td>0</td>\n",
       "      <td>1</td>\n",
       "      <td>1</td>\n",
       "    </tr>\n",
       "    <tr>\n",
       "      <th>3</th>\n",
       "      <td>No Urgent Place</td>\n",
       "      <td>Friend(s)</td>\n",
       "      <td>Sunny</td>\n",
       "      <td>80</td>\n",
       "      <td>2PM</td>\n",
       "      <td>Coffee House</td>\n",
       "      <td>2h</td>\n",
       "      <td>Female</td>\n",
       "      <td>21</td>\n",
       "      <td>Unmarried partner</td>\n",
       "      <td>...</td>\n",
       "      <td>never</td>\n",
       "      <td>NaN</td>\n",
       "      <td>4~8</td>\n",
       "      <td>1~3</td>\n",
       "      <td>1</td>\n",
       "      <td>1</td>\n",
       "      <td>0</td>\n",
       "      <td>0</td>\n",
       "      <td>1</td>\n",
       "      <td>0</td>\n",
       "    </tr>\n",
       "    <tr>\n",
       "      <th>4</th>\n",
       "      <td>No Urgent Place</td>\n",
       "      <td>Friend(s)</td>\n",
       "      <td>Sunny</td>\n",
       "      <td>80</td>\n",
       "      <td>2PM</td>\n",
       "      <td>Coffee House</td>\n",
       "      <td>1d</td>\n",
       "      <td>Female</td>\n",
       "      <td>21</td>\n",
       "      <td>Unmarried partner</td>\n",
       "      <td>...</td>\n",
       "      <td>never</td>\n",
       "      <td>NaN</td>\n",
       "      <td>4~8</td>\n",
       "      <td>1~3</td>\n",
       "      <td>1</td>\n",
       "      <td>1</td>\n",
       "      <td>0</td>\n",
       "      <td>0</td>\n",
       "      <td>1</td>\n",
       "      <td>0</td>\n",
       "    </tr>\n",
       "  </tbody>\n",
       "</table>\n",
       "<p>5 rows × 26 columns</p>\n",
       "</div>"
      ],
      "text/plain": [
       "       destination  passanger weather  temperature  time  \\\n",
       "0  No Urgent Place      Alone   Sunny           55   2PM   \n",
       "1  No Urgent Place  Friend(s)   Sunny           80  10AM   \n",
       "2  No Urgent Place  Friend(s)   Sunny           80  10AM   \n",
       "3  No Urgent Place  Friend(s)   Sunny           80   2PM   \n",
       "4  No Urgent Place  Friend(s)   Sunny           80   2PM   \n",
       "\n",
       "                  coupon expiration  gender age      maritalStatus  ...  \\\n",
       "0        Restaurant(<20)         1d  Female  21  Unmarried partner  ...   \n",
       "1           Coffee House         2h  Female  21  Unmarried partner  ...   \n",
       "2  Carry out & Take away         2h  Female  21  Unmarried partner  ...   \n",
       "3           Coffee House         2h  Female  21  Unmarried partner  ...   \n",
       "4           Coffee House         1d  Female  21  Unmarried partner  ...   \n",
       "\n",
       "   CoffeeHouse CarryAway RestaurantLessThan20 Restaurant20To50  \\\n",
       "0        never       NaN                  4~8              1~3   \n",
       "1        never       NaN                  4~8              1~3   \n",
       "2        never       NaN                  4~8              1~3   \n",
       "3        never       NaN                  4~8              1~3   \n",
       "4        never       NaN                  4~8              1~3   \n",
       "\n",
       "  toCoupon_GEQ5min toCoupon_GEQ15min toCoupon_GEQ25min direction_same  \\\n",
       "0                1                 0                 0              0   \n",
       "1                1                 0                 0              0   \n",
       "2                1                 1                 0              0   \n",
       "3                1                 1                 0              0   \n",
       "4                1                 1                 0              0   \n",
       "\n",
       "  direction_opp  Y  \n",
       "0             1  1  \n",
       "1             1  0  \n",
       "2             1  1  \n",
       "3             1  0  \n",
       "4             1  0  \n",
       "\n",
       "[5 rows x 26 columns]"
      ]
     },
     "execution_count": 4,
     "metadata": {},
     "output_type": "execute_result"
    }
   ],
   "source": [
    "df = pd.read_csv(\"in-vehicle-coupon-recommendation.csv\")\n",
    "df.head()"
   ]
  },
  {
   "cell_type": "code",
   "execution_count": 5,
   "id": "32d6ee32",
   "metadata": {},
   "outputs": [
    {
     "data": {
      "text/html": [
       "<div>\n",
       "<style scoped>\n",
       "    .dataframe tbody tr th:only-of-type {\n",
       "        vertical-align: middle;\n",
       "    }\n",
       "\n",
       "    .dataframe tbody tr th {\n",
       "        vertical-align: top;\n",
       "    }\n",
       "\n",
       "    .dataframe thead th {\n",
       "        text-align: right;\n",
       "    }\n",
       "</style>\n",
       "<table border=\"1\" class=\"dataframe\">\n",
       "  <thead>\n",
       "    <tr style=\"text-align: right;\">\n",
       "      <th></th>\n",
       "      <th>Percent</th>\n",
       "    </tr>\n",
       "  </thead>\n",
       "  <tbody>\n",
       "    <tr>\n",
       "      <th>car</th>\n",
       "      <td>99.148534</td>\n",
       "    </tr>\n",
       "    <tr>\n",
       "      <th>CoffeeHouse</th>\n",
       "      <td>1.710817</td>\n",
       "    </tr>\n",
       "    <tr>\n",
       "      <th>Restaurant20To50</th>\n",
       "      <td>1.490066</td>\n",
       "    </tr>\n",
       "    <tr>\n",
       "      <th>CarryAway</th>\n",
       "      <td>1.190476</td>\n",
       "    </tr>\n",
       "    <tr>\n",
       "      <th>RestaurantLessThan20</th>\n",
       "      <td>1.024913</td>\n",
       "    </tr>\n",
       "    <tr>\n",
       "      <th>Bar</th>\n",
       "      <td>0.843582</td>\n",
       "    </tr>\n",
       "  </tbody>\n",
       "</table>\n",
       "</div>"
      ],
      "text/plain": [
       "                        Percent\n",
       "car                   99.148534\n",
       "CoffeeHouse            1.710817\n",
       "Restaurant20To50       1.490066\n",
       "CarryAway              1.190476\n",
       "RestaurantLessThan20   1.024913\n",
       "Bar                    0.843582"
      ]
     },
     "execution_count": 5,
     "metadata": {},
     "output_type": "execute_result"
    }
   ],
   "source": [
    "getNullPercent( df )"
   ]
  },
  {
   "cell_type": "code",
   "execution_count": 6,
   "id": "118432cc",
   "metadata": {},
   "outputs": [],
   "source": [
    "df = df.drop([\"car\"], axis = 1)"
   ]
  },
  {
   "cell_type": "code",
   "execution_count": 7,
   "id": "fa18d792",
   "metadata": {},
   "outputs": [],
   "source": [
    "df = df.dropna(axis = 0)"
   ]
  },
  {
   "cell_type": "code",
   "execution_count": 8,
   "id": "94232691",
   "metadata": {},
   "outputs": [],
   "source": [
    "for i in df.columns:\n",
    "    LE = LabelEncoder()\n",
    "    df[i] = LE.fit_transform(df[i])\n",
    "#df"
   ]
  },
  {
   "cell_type": "code",
   "execution_count": 22,
   "id": "8e2110b8",
   "metadata": {},
   "outputs": [],
   "source": [
    "X = df.iloc[:,:-1]\n",
    "y = df.iloc[:,-1]"
   ]
  },
  {
   "cell_type": "code",
   "execution_count": 23,
   "id": "1f2f9271",
   "metadata": {},
   "outputs": [],
   "source": [
    "X_train, X_test, y_train, y_test = train_test_split( X , y , test_size = 0.3, random_state = 100)"
   ]
  },
  {
   "cell_type": "markdown",
   "id": "bb187738",
   "metadata": {},
   "source": [
    "## Random Forest"
   ]
  },
  {
   "cell_type": "code",
   "execution_count": 108,
   "id": "e23e0065",
   "metadata": {},
   "outputs": [
    {
     "data": {
      "image/png": "[encoded data removed]",
      "text/plain": [
       "<Figure size 432x288 with 1 Axes>"
      ]
     },
     "metadata": {},
     "output_type": "display_data"
    }
   ],
   "source": [
    "forest = RandomForestClassifier()\n",
    "forest.fit(X_train, y_train)\n",
    "importances = forest.feature_importances_\n",
    "indices = np.argsort(importances)[-15:]  \n",
    "plt.title('Feature Importances')\n",
    "plt.barh(range(len(indices)), importances[indices], color='b', align='center')\n",
    "plt.yticks(range(len(indices)), [X.columns[i] for i in indices])\n",
    "plt.xlabel('Relative Importance')\n",
    "plt.show()"
   ]
  },
  {
   "cell_type": "code",
   "execution_count": 109,
   "id": "99b286ad",
   "metadata": {},
   "outputs": [
    {
     "data": {
      "text/plain": [
       "0.7373068432671082"
      ]
     },
     "execution_count": 109,
     "metadata": {},
     "output_type": "execute_result"
    }
   ],
   "source": [
    "y_pred_test = forest.predict(X_test)\n",
    "accuracy_score(y_test, y_pred_test)"
   ]
  },
  {
   "cell_type": "code",
   "execution_count": 110,
   "id": "b7a77601",
   "metadata": {},
   "outputs": [
    {
     "data": {
      "image/png": "[encoded data removed]",
      "text/plain": [
       "<Figure size 1152x504 with 2 Axes>"
      ]
     },
     "metadata": {},
     "output_type": "display_data"
    }
   ],
   "source": [
    "matrix = confusion_matrix(y_test, y_pred_test)\n",
    "matrix = matrix.astype('float') / matrix.sum(axis=1)[:, np.newaxis]\n",
    "\n",
    "# Build the plot\n",
    "plt.figure(figsize=(16,7))\n",
    "sns.set(font_scale=1.4)\n",
    "sns.heatmap(matrix, annot=True, annot_kws={'size':10},\n",
    "            cmap=plt.cm.Greens, linewidths=0.2)\n",
    "\n",
    "\n",
    "\n",
    "plt.xlabel('Predicted label')\n",
    "plt.ylabel('True label')\n",
    "plt.title('Confusion Matrix for Random Forest Model')\n",
    "plt.show()"
   ]
  },
  {
   "cell_type": "code",
   "execution_count": 111,
   "id": "8c8bf4b5",
   "metadata": {},
   "outputs": [
    {
     "name": "stdout",
     "output_type": "stream",
     "text": [
      "Accuracy -val set: 74.41% (0.01)\n"
     ]
    },
    {
     "data": {
      "text/plain": [
       "array([0.74586288, 0.75886525, 0.73758865, 0.75650118, 0.72222222,\n",
       "       0.73964497, 0.75384615, 0.73964497, 0.74201183, 0.7443787 ])"
      ]
     },
     "execution_count": 111,
     "metadata": {},
     "output_type": "execute_result"
    }
   ],
   "source": [
    "result_1 = model_selection.cross_val_score(forest, X_train, y_train, cv = 10, scoring='accuracy')\n",
    "print('Accuracy -val set: %.2f%% (%.2f)' % (result_1.mean()*100, result_1.std()))\n",
    "result_1"
   ]
  },
  {
   "cell_type": "code",
   "execution_count": 117,
   "id": "9dcf2019",
   "metadata": {},
   "outputs": [
    {
     "data": {
      "text/plain": [
       "{'fit_time': array([0.48992085, 0.48892021, 0.48891973, 0.48841953, 0.48591781,\n",
       "        0.48841953, 0.48741889, 0.48741889, 0.48591757, 0.48691797]),\n",
       " 'score_time': array([0.02101755, 0.02151847, 0.02151847, 0.02201915, 0.02151871,\n",
       "        0.02101851, 0.02101851, 0.02151847, 0.02151871, 0.02151895]),\n",
       " 'test_tn': array([244, 246, 246, 245, 237, 227, 233, 242, 221, 239]),\n",
       " 'test_fp': array([124, 122, 122, 123, 131, 141, 134, 125, 146, 128]),\n",
       " 'test_fn': array([100,  84,  88,  93,  97,  82,  86,  87,  89,  81]),\n",
       " 'test_tp': array([378, 394, 390, 385, 381, 395, 392, 391, 389, 397])}"
      ]
     },
     "execution_count": 117,
     "metadata": {},
     "output_type": "execute_result"
    }
   ],
   "source": [
    "cv_results_1 = cross_validate(forest, X_train, y_train, cv = 10, scoring = confusion_matrix_scorer)\n",
    "cv_results_1"
   ]
  },
  {
   "cell_type": "code",
   "execution_count": 118,
   "id": "858b2829",
   "metadata": {},
   "outputs": [
    {
     "data": {
      "text/html": [
       "<div>\n",
       "<style scoped>\n",
       "    .dataframe tbody tr th:only-of-type {\n",
       "        vertical-align: middle;\n",
       "    }\n",
       "\n",
       "    .dataframe tbody tr th {\n",
       "        vertical-align: top;\n",
       "    }\n",
       "\n",
       "    .dataframe thead th {\n",
       "        text-align: right;\n",
       "    }\n",
       "</style>\n",
       "<table border=\"1\" class=\"dataframe\">\n",
       "  <thead>\n",
       "    <tr style=\"text-align: right;\">\n",
       "      <th></th>\n",
       "      <th>Accuracy</th>\n",
       "    </tr>\n",
       "  </thead>\n",
       "  <tbody>\n",
       "    <tr>\n",
       "      <th>0</th>\n",
       "      <td>0.745863</td>\n",
       "    </tr>\n",
       "    <tr>\n",
       "      <th>1</th>\n",
       "      <td>0.758865</td>\n",
       "    </tr>\n",
       "    <tr>\n",
       "      <th>2</th>\n",
       "      <td>0.737589</td>\n",
       "    </tr>\n",
       "    <tr>\n",
       "      <th>3</th>\n",
       "      <td>0.756501</td>\n",
       "    </tr>\n",
       "    <tr>\n",
       "      <th>4</th>\n",
       "      <td>0.722222</td>\n",
       "    </tr>\n",
       "    <tr>\n",
       "      <th>5</th>\n",
       "      <td>0.739645</td>\n",
       "    </tr>\n",
       "    <tr>\n",
       "      <th>6</th>\n",
       "      <td>0.753846</td>\n",
       "    </tr>\n",
       "    <tr>\n",
       "      <th>7</th>\n",
       "      <td>0.739645</td>\n",
       "    </tr>\n",
       "    <tr>\n",
       "      <th>8</th>\n",
       "      <td>0.742012</td>\n",
       "    </tr>\n",
       "    <tr>\n",
       "      <th>9</th>\n",
       "      <td>0.744379</td>\n",
       "    </tr>\n",
       "  </tbody>\n",
       "</table>\n",
       "</div>"
      ],
      "text/plain": [
       "   Accuracy\n",
       "0  0.745863\n",
       "1  0.758865\n",
       "2  0.737589\n",
       "3  0.756501\n",
       "4  0.722222\n",
       "5  0.739645\n",
       "6  0.753846\n",
       "7  0.739645\n",
       "8  0.742012\n",
       "9  0.744379"
      ]
     },
     "execution_count": 118,
     "metadata": {},
     "output_type": "execute_result"
    }
   ],
   "source": [
    "df_re_1 = pd.DataFrame(data = result_1, columns = [\"Accuracy\"])\n",
    "df_re_1"
   ]
  },
  {
   "cell_type": "code",
   "execution_count": 119,
   "id": "57c999d4",
   "metadata": {},
   "outputs": [
    {
     "data": {
      "text/html": [
       "<div>\n",
       "<style scoped>\n",
       "    .dataframe tbody tr th:only-of-type {\n",
       "        vertical-align: middle;\n",
       "    }\n",
       "\n",
       "    .dataframe tbody tr th {\n",
       "        vertical-align: top;\n",
       "    }\n",
       "\n",
       "    .dataframe thead th {\n",
       "        text-align: right;\n",
       "    }\n",
       "</style>\n",
       "<table border=\"1\" class=\"dataframe\">\n",
       "  <thead>\n",
       "    <tr style=\"text-align: right;\">\n",
       "      <th></th>\n",
       "      <th>fit_time</th>\n",
       "      <th>score_time</th>\n",
       "      <th>test_tn</th>\n",
       "      <th>test_fp</th>\n",
       "      <th>test_fn</th>\n",
       "      <th>test_tp</th>\n",
       "    </tr>\n",
       "  </thead>\n",
       "  <tbody>\n",
       "    <tr>\n",
       "      <th>0</th>\n",
       "      <td>0.489921</td>\n",
       "      <td>0.021018</td>\n",
       "      <td>244</td>\n",
       "      <td>124</td>\n",
       "      <td>100</td>\n",
       "      <td>378</td>\n",
       "    </tr>\n",
       "    <tr>\n",
       "      <th>1</th>\n",
       "      <td>0.488920</td>\n",
       "      <td>0.021518</td>\n",
       "      <td>246</td>\n",
       "      <td>122</td>\n",
       "      <td>84</td>\n",
       "      <td>394</td>\n",
       "    </tr>\n",
       "    <tr>\n",
       "      <th>2</th>\n",
       "      <td>0.488920</td>\n",
       "      <td>0.021518</td>\n",
       "      <td>246</td>\n",
       "      <td>122</td>\n",
       "      <td>88</td>\n",
       "      <td>390</td>\n",
       "    </tr>\n",
       "    <tr>\n",
       "      <th>3</th>\n",
       "      <td>0.488420</td>\n",
       "      <td>0.022019</td>\n",
       "      <td>245</td>\n",
       "      <td>123</td>\n",
       "      <td>93</td>\n",
       "      <td>385</td>\n",
       "    </tr>\n",
       "    <tr>\n",
       "      <th>4</th>\n",
       "      <td>0.485918</td>\n",
       "      <td>0.021519</td>\n",
       "      <td>237</td>\n",
       "      <td>131</td>\n",
       "      <td>97</td>\n",
       "      <td>381</td>\n",
       "    </tr>\n",
       "    <tr>\n",
       "      <th>5</th>\n",
       "      <td>0.488420</td>\n",
       "      <td>0.021019</td>\n",
       "      <td>227</td>\n",
       "      <td>141</td>\n",
       "      <td>82</td>\n",
       "      <td>395</td>\n",
       "    </tr>\n",
       "    <tr>\n",
       "      <th>6</th>\n",
       "      <td>0.487419</td>\n",
       "      <td>0.021019</td>\n",
       "      <td>233</td>\n",
       "      <td>134</td>\n",
       "      <td>86</td>\n",
       "      <td>392</td>\n",
       "    </tr>\n",
       "    <tr>\n",
       "      <th>7</th>\n",
       "      <td>0.487419</td>\n",
       "      <td>0.021518</td>\n",
       "      <td>242</td>\n",
       "      <td>125</td>\n",
       "      <td>87</td>\n",
       "      <td>391</td>\n",
       "    </tr>\n",
       "    <tr>\n",
       "      <th>8</th>\n",
       "      <td>0.485918</td>\n",
       "      <td>0.021519</td>\n",
       "      <td>221</td>\n",
       "      <td>146</td>\n",
       "      <td>89</td>\n",
       "      <td>389</td>\n",
       "    </tr>\n",
       "    <tr>\n",
       "      <th>9</th>\n",
       "      <td>0.486918</td>\n",
       "      <td>0.021519</td>\n",
       "      <td>239</td>\n",
       "      <td>128</td>\n",
       "      <td>81</td>\n",
       "      <td>397</td>\n",
       "    </tr>\n",
       "  </tbody>\n",
       "</table>\n",
       "</div>"
      ],
      "text/plain": [
       "   fit_time  score_time  test_tn  test_fp  test_fn  test_tp\n",
       "0  0.489921    0.021018      244      124      100      378\n",
       "1  0.488920    0.021518      246      122       84      394\n",
       "2  0.488920    0.021518      246      122       88      390\n",
       "3  0.488420    0.022019      245      123       93      385\n",
       "4  0.485918    0.021519      237      131       97      381\n",
       "5  0.488420    0.021019      227      141       82      395\n",
       "6  0.487419    0.021019      233      134       86      392\n",
       "7  0.487419    0.021518      242      125       87      391\n",
       "8  0.485918    0.021519      221      146       89      389\n",
       "9  0.486918    0.021519      239      128       81      397"
      ]
     },
     "execution_count": 119,
     "metadata": {},
     "output_type": "execute_result"
    }
   ],
   "source": [
    "df_cre_1 = pd.DataFrame(data = cv_results_1)\n",
    "df_cre_1"
   ]
  },
  {
   "cell_type": "code",
   "execution_count": 120,
   "id": "3c3ebe81",
   "metadata": {},
   "outputs": [],
   "source": [
    "df_1 = df_re_1.join(df_cre_1, how='outer')\n",
    "df_1[\"TPR\"] = df_1[\"test_tp\"] / (df_1[\"test_tp\"] + df_1[\"test_fn\"])\n",
    "df_1[\"FPR\"] = df_1[\"test_fp\"] / (df_1[\"test_fp\"] + df_1[\"test_tn\"])\n",
    "df_1 = df_1.drop(['fit_time', 'score_time'], axis=1)"
   ]
  },
  {
   "cell_type": "code",
   "execution_count": 121,
   "id": "be0ffa4a",
   "metadata": {},
   "outputs": [],
   "source": [
    "df_1.rename(columns={'test_tn': 'TN', 'test_fp': 'FP', 'test_fn': 'FN', 'test_tp': 'TP'}, inplace=True)"
   ]
  },
  {
   "cell_type": "code",
   "execution_count": 122,
   "id": "7c756fa6",
   "metadata": {},
   "outputs": [
    {
     "data": {
      "text/html": [
       "<div>\n",
       "<style scoped>\n",
       "    .dataframe tbody tr th:only-of-type {\n",
       "        vertical-align: middle;\n",
       "    }\n",
       "\n",
       "    .dataframe tbody tr th {\n",
       "        vertical-align: top;\n",
       "    }\n",
       "\n",
       "    .dataframe thead th {\n",
       "        text-align: right;\n",
       "    }\n",
       "</style>\n",
       "<table border=\"1\" class=\"dataframe\">\n",
       "  <thead>\n",
       "    <tr style=\"text-align: right;\">\n",
       "      <th></th>\n",
       "      <th>0</th>\n",
       "      <th>1</th>\n",
       "      <th>2</th>\n",
       "      <th>3</th>\n",
       "      <th>4</th>\n",
       "      <th>5</th>\n",
       "      <th>6</th>\n",
       "      <th>7</th>\n",
       "      <th>8</th>\n",
       "      <th>9</th>\n",
       "    </tr>\n",
       "  </thead>\n",
       "  <tbody>\n",
       "    <tr>\n",
       "      <th>Accuracy</th>\n",
       "      <td>0.745863</td>\n",
       "      <td>0.758865</td>\n",
       "      <td>0.737589</td>\n",
       "      <td>0.756501</td>\n",
       "      <td>0.722222</td>\n",
       "      <td>0.739645</td>\n",
       "      <td>0.753846</td>\n",
       "      <td>0.739645</td>\n",
       "      <td>0.742012</td>\n",
       "      <td>0.744379</td>\n",
       "    </tr>\n",
       "    <tr>\n",
       "      <th>TN</th>\n",
       "      <td>244.000000</td>\n",
       "      <td>246.000000</td>\n",
       "      <td>246.000000</td>\n",
       "      <td>245.000000</td>\n",
       "      <td>237.000000</td>\n",
       "      <td>227.000000</td>\n",
       "      <td>233.000000</td>\n",
       "      <td>242.000000</td>\n",
       "      <td>221.000000</td>\n",
       "      <td>239.000000</td>\n",
       "    </tr>\n",
       "    <tr>\n",
       "      <th>FP</th>\n",
       "      <td>124.000000</td>\n",
       "      <td>122.000000</td>\n",
       "      <td>122.000000</td>\n",
       "      <td>123.000000</td>\n",
       "      <td>131.000000</td>\n",
       "      <td>141.000000</td>\n",
       "      <td>134.000000</td>\n",
       "      <td>125.000000</td>\n",
       "      <td>146.000000</td>\n",
       "      <td>128.000000</td>\n",
       "    </tr>\n",
       "    <tr>\n",
       "      <th>FN</th>\n",
       "      <td>100.000000</td>\n",
       "      <td>84.000000</td>\n",
       "      <td>88.000000</td>\n",
       "      <td>93.000000</td>\n",
       "      <td>97.000000</td>\n",
       "      <td>82.000000</td>\n",
       "      <td>86.000000</td>\n",
       "      <td>87.000000</td>\n",
       "      <td>89.000000</td>\n",
       "      <td>81.000000</td>\n",
       "    </tr>\n",
       "    <tr>\n",
       "      <th>TP</th>\n",
       "      <td>378.000000</td>\n",
       "      <td>394.000000</td>\n",
       "      <td>390.000000</td>\n",
       "      <td>385.000000</td>\n",
       "      <td>381.000000</td>\n",
       "      <td>395.000000</td>\n",
       "      <td>392.000000</td>\n",
       "      <td>391.000000</td>\n",
       "      <td>389.000000</td>\n",
       "      <td>397.000000</td>\n",
       "    </tr>\n",
       "    <tr>\n",
       "      <th>TPR</th>\n",
       "      <td>0.790795</td>\n",
       "      <td>0.824268</td>\n",
       "      <td>0.815900</td>\n",
       "      <td>0.805439</td>\n",
       "      <td>0.797071</td>\n",
       "      <td>0.828092</td>\n",
       "      <td>0.820084</td>\n",
       "      <td>0.817992</td>\n",
       "      <td>0.813808</td>\n",
       "      <td>0.830544</td>\n",
       "    </tr>\n",
       "    <tr>\n",
       "      <th>FPR</th>\n",
       "      <td>0.336957</td>\n",
       "      <td>0.331522</td>\n",
       "      <td>0.331522</td>\n",
       "      <td>0.334239</td>\n",
       "      <td>0.355978</td>\n",
       "      <td>0.383152</td>\n",
       "      <td>0.365123</td>\n",
       "      <td>0.340599</td>\n",
       "      <td>0.397820</td>\n",
       "      <td>0.348774</td>\n",
       "    </tr>\n",
       "  </tbody>\n",
       "</table>\n",
       "</div>"
      ],
      "text/plain": [
       "                   0           1           2           3           4  \\\n",
       "Accuracy    0.745863    0.758865    0.737589    0.756501    0.722222   \n",
       "TN        244.000000  246.000000  246.000000  245.000000  237.000000   \n",
       "FP        124.000000  122.000000  122.000000  123.000000  131.000000   \n",
       "FN        100.000000   84.000000   88.000000   93.000000   97.000000   \n",
       "TP        378.000000  394.000000  390.000000  385.000000  381.000000   \n",
       "TPR         0.790795    0.824268    0.815900    0.805439    0.797071   \n",
       "FPR         0.336957    0.331522    0.331522    0.334239    0.355978   \n",
       "\n",
       "                   5           6           7           8           9  \n",
       "Accuracy    0.739645    0.753846    0.739645    0.742012    0.744379  \n",
       "TN        227.000000  233.000000  242.000000  221.000000  239.000000  \n",
       "FP        141.000000  134.000000  125.000000  146.000000  128.000000  \n",
       "FN         82.000000   86.000000   87.000000   89.000000   81.000000  \n",
       "TP        395.000000  392.000000  391.000000  389.000000  397.000000  \n",
       "TPR         0.828092    0.820084    0.817992    0.813808    0.830544  \n",
       "FPR         0.383152    0.365123    0.340599    0.397820    0.348774  "
      ]
     },
     "execution_count": 122,
     "metadata": {},
     "output_type": "execute_result"
    }
   ],
   "source": [
    "df_1.T"
   ]
  },
  {
   "cell_type": "markdown",
   "id": "fc9c69d5",
   "metadata": {},
   "source": [
    "## Support Vector Machine"
   ]
  },
  {
   "cell_type": "code",
   "execution_count": 99,
   "id": "fe9cc269",
   "metadata": {},
   "outputs": [
    {
     "data": {
      "text/plain": [
       "0.6269315673289183"
      ]
     },
     "execution_count": 99,
     "metadata": {},
     "output_type": "execute_result"
    }
   ],
   "source": [
    "clf = svm.SVC(kernel='linear')\n",
    "clf.fit(X_train, y_train)\n",
    "y_pred_test = clf.predict(X_test)\n",
    "accuracy_score(y_test, y_pred_test)"
   ]
  },
  {
   "cell_type": "code",
   "execution_count": 100,
   "id": "65d3adae",
   "metadata": {},
   "outputs": [
    {
     "data": {
      "image/png": "[encoded data removed]",
      "text/plain": [
       "<Figure size 1152x504 with 2 Axes>"
      ]
     },
     "metadata": {},
     "output_type": "display_data"
    }
   ],
   "source": [
    "matrix = confusion_matrix(y_test, y_pred_test)\n",
    "matrix = matrix.astype('float') / matrix.sum(axis=1)[:, np.newaxis]\n",
    "\n",
    "# Build the plot\n",
    "plt.figure(figsize=(16,7))\n",
    "sns.set(font_scale=1.4)\n",
    "sns.heatmap(matrix, annot=True, annot_kws={'size':10},\n",
    "            cmap=plt.cm.Greens, linewidths=0.2)\n",
    "\n",
    "\n",
    "\n",
    "plt.xlabel('Predicted label')\n",
    "plt.ylabel('True label')\n",
    "plt.title('Confusion Matrix for Random Forest Model')\n",
    "plt.show()"
   ]
  },
  {
   "cell_type": "code",
   "execution_count": 101,
   "id": "7e24a731",
   "metadata": {},
   "outputs": [
    {
     "name": "stdout",
     "output_type": "stream",
     "text": [
      "Accuracy -val set: 62.93% (0.01)\n"
     ]
    },
    {
     "data": {
      "text/plain": [
       "array([0.62056738, 0.62293144, 0.63238771, 0.63947991, 0.62411348,\n",
       "       0.62721893, 0.61065089, 0.63313609, 0.6260355 , 0.65680473])"
      ]
     },
     "execution_count": 101,
     "metadata": {},
     "output_type": "execute_result"
    }
   ],
   "source": [
    "result_2 = model_selection.cross_val_score(clf, X_train, y_train, cv = 10, scoring='accuracy')\n",
    "print('Accuracy -val set: %.2f%% (%.2f)' % (result_2.mean()*100, result_2.std()))\n",
    "result_2"
   ]
  },
  {
   "cell_type": "code",
   "execution_count": 102,
   "id": "24d072b7",
   "metadata": {},
   "outputs": [
    {
     "data": {
      "text/plain": [
       "{'fit_time': array([2.79239941, 2.80891371, 2.73485017, 2.70532441, 2.85695481,\n",
       "        2.70732665, 2.7728827 , 2.65528226, 2.85945749, 2.74686027]),\n",
       " 'score_time': array([0.09458137, 0.09508157, 0.09458113, 0.09758401, 0.10308838,\n",
       "        0.09558225, 0.0945816 , 0.09458089, 0.09458113, 0.09508181]),\n",
       " 'test_tn': array([165, 163, 151, 167, 161, 162, 168, 167, 159, 174]),\n",
       " 'test_fp': array([203, 205, 217, 201, 207, 206, 199, 200, 208, 193]),\n",
       " 'test_fn': array([118, 114,  94, 104, 111, 109, 130, 110, 108,  97]),\n",
       " 'test_tp': array([360, 364, 384, 374, 367, 368, 348, 368, 370, 381])}"
      ]
     },
     "execution_count": 102,
     "metadata": {},
     "output_type": "execute_result"
    }
   ],
   "source": [
    "cv_results_2 = cross_validate(clf, X_train, y_train, cv = 10, scoring = confusion_matrix_scorer)\n",
    "cv_results_2"
   ]
  },
  {
   "cell_type": "code",
   "execution_count": 103,
   "id": "dcf22c87",
   "metadata": {},
   "outputs": [],
   "source": [
    "df_re_2 = pd.DataFrame(data = result_2, columns = [\"Accuracy\"])\n",
    "df_cre_2 = pd.DataFrame(data = cv_results_2)\n",
    "df_2 = df_re_2.join(df_cre_2, how='outer')\n",
    "df_2[\"TPR\"] = df_2[\"test_tp\"] / (df_2[\"test_tp\"] + df_2[\"test_fn\"])\n",
    "df_2[\"FPR\"] = df_2[\"test_fp\"] / (df_2[\"test_fp\"] + df_2[\"test_tn\"])\n",
    "df_2 = df_2.drop(['fit_time', 'score_time'], axis=1)\n",
    "df_2.rename(columns={'test_tn': 'TN', 'test_fp': 'FP', 'test_fn': 'FN', 'test_tp': 'TP'}, inplace=True)"
   ]
  },
  {
   "cell_type": "code",
   "execution_count": 104,
   "id": "2e897f14",
   "metadata": {},
   "outputs": [
    {
     "data": {
      "text/html": [
       "<div>\n",
       "<style scoped>\n",
       "    .dataframe tbody tr th:only-of-type {\n",
       "        vertical-align: middle;\n",
       "    }\n",
       "\n",
       "    .dataframe tbody tr th {\n",
       "        vertical-align: top;\n",
       "    }\n",
       "\n",
       "    .dataframe thead th {\n",
       "        text-align: right;\n",
       "    }\n",
       "</style>\n",
       "<table border=\"1\" class=\"dataframe\">\n",
       "  <thead>\n",
       "    <tr style=\"text-align: right;\">\n",
       "      <th></th>\n",
       "      <th>0</th>\n",
       "      <th>1</th>\n",
       "      <th>2</th>\n",
       "      <th>3</th>\n",
       "      <th>4</th>\n",
       "      <th>5</th>\n",
       "      <th>6</th>\n",
       "      <th>7</th>\n",
       "      <th>8</th>\n",
       "      <th>9</th>\n",
       "    </tr>\n",
       "  </thead>\n",
       "  <tbody>\n",
       "    <tr>\n",
       "      <th>Accuracy</th>\n",
       "      <td>0.620567</td>\n",
       "      <td>0.622931</td>\n",
       "      <td>0.632388</td>\n",
       "      <td>0.639480</td>\n",
       "      <td>0.624113</td>\n",
       "      <td>0.627219</td>\n",
       "      <td>0.610651</td>\n",
       "      <td>0.633136</td>\n",
       "      <td>0.626036</td>\n",
       "      <td>0.656805</td>\n",
       "    </tr>\n",
       "    <tr>\n",
       "      <th>TN</th>\n",
       "      <td>165.000000</td>\n",
       "      <td>163.000000</td>\n",
       "      <td>151.000000</td>\n",
       "      <td>167.000000</td>\n",
       "      <td>161.000000</td>\n",
       "      <td>162.000000</td>\n",
       "      <td>168.000000</td>\n",
       "      <td>167.000000</td>\n",
       "      <td>159.000000</td>\n",
       "      <td>174.000000</td>\n",
       "    </tr>\n",
       "    <tr>\n",
       "      <th>FP</th>\n",
       "      <td>203.000000</td>\n",
       "      <td>205.000000</td>\n",
       "      <td>217.000000</td>\n",
       "      <td>201.000000</td>\n",
       "      <td>207.000000</td>\n",
       "      <td>206.000000</td>\n",
       "      <td>199.000000</td>\n",
       "      <td>200.000000</td>\n",
       "      <td>208.000000</td>\n",
       "      <td>193.000000</td>\n",
       "    </tr>\n",
       "    <tr>\n",
       "      <th>FN</th>\n",
       "      <td>118.000000</td>\n",
       "      <td>114.000000</td>\n",
       "      <td>94.000000</td>\n",
       "      <td>104.000000</td>\n",
       "      <td>111.000000</td>\n",
       "      <td>109.000000</td>\n",
       "      <td>130.000000</td>\n",
       "      <td>110.000000</td>\n",
       "      <td>108.000000</td>\n",
       "      <td>97.000000</td>\n",
       "    </tr>\n",
       "    <tr>\n",
       "      <th>TP</th>\n",
       "      <td>360.000000</td>\n",
       "      <td>364.000000</td>\n",
       "      <td>384.000000</td>\n",
       "      <td>374.000000</td>\n",
       "      <td>367.000000</td>\n",
       "      <td>368.000000</td>\n",
       "      <td>348.000000</td>\n",
       "      <td>368.000000</td>\n",
       "      <td>370.000000</td>\n",
       "      <td>381.000000</td>\n",
       "    </tr>\n",
       "    <tr>\n",
       "      <th>TPR</th>\n",
       "      <td>0.753138</td>\n",
       "      <td>0.761506</td>\n",
       "      <td>0.803347</td>\n",
       "      <td>0.782427</td>\n",
       "      <td>0.767782</td>\n",
       "      <td>0.771488</td>\n",
       "      <td>0.728033</td>\n",
       "      <td>0.769874</td>\n",
       "      <td>0.774059</td>\n",
       "      <td>0.797071</td>\n",
       "    </tr>\n",
       "    <tr>\n",
       "      <th>FPR</th>\n",
       "      <td>0.551630</td>\n",
       "      <td>0.557065</td>\n",
       "      <td>0.589674</td>\n",
       "      <td>0.546196</td>\n",
       "      <td>0.562500</td>\n",
       "      <td>0.559783</td>\n",
       "      <td>0.542234</td>\n",
       "      <td>0.544959</td>\n",
       "      <td>0.566757</td>\n",
       "      <td>0.525886</td>\n",
       "    </tr>\n",
       "  </tbody>\n",
       "</table>\n",
       "</div>"
      ],
      "text/plain": [
       "                   0           1           2           3           4  \\\n",
       "Accuracy    0.620567    0.622931    0.632388    0.639480    0.624113   \n",
       "TN        165.000000  163.000000  151.000000  167.000000  161.000000   \n",
       "FP        203.000000  205.000000  217.000000  201.000000  207.000000   \n",
       "FN        118.000000  114.000000   94.000000  104.000000  111.000000   \n",
       "TP        360.000000  364.000000  384.000000  374.000000  367.000000   \n",
       "TPR         0.753138    0.761506    0.803347    0.782427    0.767782   \n",
       "FPR         0.551630    0.557065    0.589674    0.546196    0.562500   \n",
       "\n",
       "                   5           6           7           8           9  \n",
       "Accuracy    0.627219    0.610651    0.633136    0.626036    0.656805  \n",
       "TN        162.000000  168.000000  167.000000  159.000000  174.000000  \n",
       "FP        206.000000  199.000000  200.000000  208.000000  193.000000  \n",
       "FN        109.000000  130.000000  110.000000  108.000000   97.000000  \n",
       "TP        368.000000  348.000000  368.000000  370.000000  381.000000  \n",
       "TPR         0.771488    0.728033    0.769874    0.774059    0.797071  \n",
       "FPR         0.559783    0.542234    0.544959    0.566757    0.525886  "
      ]
     },
     "execution_count": 104,
     "metadata": {},
     "output_type": "execute_result"
    }
   ],
   "source": [
    "df_2.T"
   ]
  },
  {
   "cell_type": "markdown",
   "id": "f9227682",
   "metadata": {},
   "source": [
    "## LSTM"
   ]
  },
  {
   "cell_type": "code",
   "execution_count": 85,
   "id": "42026649",
   "metadata": {
    "scrolled": false
   },
   "outputs": [
    {
     "name": "stdout",
     "output_type": "stream",
     "text": [
      "------------------------------------------------------------------------\n",
      "Training for fold 1 ...\n",
      "Score for fold 1: loss of 1.979650616645813; accuracy of 70.03311514854431%\n",
      "265/265 [==============================] - 0s 2ms/step - loss: 0.0111 - accuracy: 0.9965\n",
      "[0.01106316689401865, 0.9964517951011658]\n",
      "TP =  3665\n",
      "FP =  11\n",
      "FN =  19\n",
      "TN =  4760\n",
      "TPR =  0.994842562432139\n",
      "FPR =  0.002305596311045902\n",
      "------------------------------------------------------------------------\n",
      "Training for fold 2 ...\n",
      "Score for fold 2: loss of 1.7867531776428223; accuracy of 70.1434850692749%\n",
      "265/265 [==============================] - 1s 2ms/step - loss: 0.0272 - accuracy: 0.9914\n",
      "[0.02720322273671627, 0.9913660287857056]\n",
      "TP =  3660\n",
      "FP =  16\n",
      "FN =  70\n",
      "TN =  4709\n",
      "TPR =  0.9812332439678284\n",
      "FPR =  0.0033862433862433864\n",
      "------------------------------------------------------------------------\n",
      "Training for fold 3 ...\n",
      "Score for fold 3: loss of 2.146106719970703; accuracy of 70.0055181980133%\n",
      "265/265 [==============================] - 1s 2ms/step - loss: 0.0138 - accuracy: 0.9960\n",
      "[0.01377231813967228, 0.9959787130355835]\n",
      "TP =  3669\n",
      "FP =  7\n",
      "FN =  39\n",
      "TN =  4740\n",
      "TPR =  0.9894822006472492\n",
      "FPR =  0.001474615546661049\n",
      "------------------------------------------------------------------------\n",
      "Training for fold 4 ...\n",
      "Score for fold 4: loss of 1.8668853044509888; accuracy of 70.25386095046997%\n",
      "265/265 [==============================] - 0s 2ms/step - loss: 0.0192 - accuracy: 0.9929\n",
      "[0.019150346517562866, 0.9929035902023315]\n",
      "TP =  3663\n",
      "FP =  13\n",
      "FN =  58\n",
      "TN =  4721\n",
      "TPR =  0.9844127922601451\n",
      "FPR =  0.002746092099704267\n",
      "------------------------------------------------------------------------\n",
      "Training for fold 5 ...\n",
      "Score for fold 5: loss of 1.9595645666122437; accuracy of 69.95033025741577%\n",
      "265/265 [==============================] - 0s 2ms/step - loss: 0.0199 - accuracy: 0.9938\n",
      "[0.019908089190721512, 0.9938498139381409]\n",
      "TP =  3658\n",
      "FP =  18\n",
      "FN =  36\n",
      "TN =  4743\n",
      "TPR =  0.9902544667027612\n",
      "FPR =  0.003780718336483932\n",
      "------------------------------------------------------------------------\n",
      "Training for fold 6 ...\n",
      "Score for fold 6: loss of 1.6425855159759521; accuracy of 69.6743905544281%\n",
      "265/265 [==============================] - 1s 2ms/step - loss: 0.0299 - accuracy: 0.9902\n",
      "[0.029898690059781075, 0.9901832938194275]\n",
      "TP =  3657\n",
      "FP =  19\n",
      "FN =  88\n",
      "TN =  4691\n",
      "TPR =  0.976502002670227\n",
      "FPR =  0.0040339702760084925\n",
      "------------------------------------------------------------------------\n",
      "Training for fold 7 ...\n",
      "Score for fold 7: loss of 1.7989912033081055; accuracy of 70.06070613861084%\n",
      "265/265 [==============================] - 0s 2ms/step - loss: 0.0267 - accuracy: 0.9902\n",
      "[0.02674705907702446, 0.9901832938194275]\n",
      "TP =  3643\n",
      "FP =  33\n",
      "FN =  34\n",
      "TN =  4745\n",
      "TPR =  0.9907533315202611\n",
      "FPR =  0.006906655504395145\n",
      "------------------------------------------------------------------------\n",
      "Training for fold 8 ...\n",
      "Score for fold 8: loss of 1.9058479070663452; accuracy of 68.87417435646057%\n",
      "265/265 [==============================] - 1s 2ms/step - loss: 0.0252 - accuracy: 0.9929\n",
      "[0.025153212249279022, 0.9929035902023315]\n",
      "TP =  3650\n",
      "FP =  26\n",
      "FN =  34\n",
      "TN =  4745\n",
      "TPR =  0.990770901194354\n",
      "FPR =  0.005449591280653951\n",
      "------------------------------------------------------------------------\n",
      "Training for fold 9 ...\n",
      "Score for fold 9: loss of 1.8597766160964966; accuracy of 70.06070613861084%\n",
      "265/265 [==============================] - 1s 2ms/step - loss: 0.0303 - accuracy: 0.9901\n",
      "[0.030267151072621346, 0.9900650382041931]\n",
      "TP =  3651\n",
      "FP =  25\n",
      "FN =  56\n",
      "TN =  4723\n",
      "TPR =  0.9848934448340977\n",
      "FPR =  0.005265374894692502\n",
      "------------------------------------------------------------------------\n",
      "Training for fold 10 ...\n",
      "Score for fold 10: loss of 1.8626868724822998; accuracy of 69.17770504951477%\n",
      "265/265 [==============================] - 1s 2ms/step - loss: 0.0290 - accuracy: 0.9907\n",
      "[0.028973279520869255, 0.9906564354896545]\n",
      "TP =  3660\n",
      "FP =  16\n",
      "FN =  87\n",
      "TN =  4692\n",
      "TPR =  0.9767814251401121\n",
      "FPR =  0.0033984706881903144\n"
     ]
    }
   ],
   "source": [
    "from tensorflow.keras.datasets import cifar10\n",
    "from tensorflow.keras.models import Sequential\n",
    "from tensorflow.keras.layers import Dense, Flatten, Conv2D, MaxPooling2D\n",
    "from tensorflow.keras.losses import sparse_categorical_crossentropy\n",
    "from tensorflow.keras.optimizers import Adam\n",
    "from sklearn.model_selection import KFold\n",
    "from keras.layers import Embedding\n",
    "import numpy as np\n",
    "\n",
    "fold_no = 1\n",
    "kfold = KFold(n_splits = 10, shuffle=True)\n",
    "acc_per_fold = []\n",
    "loss_per_fold = []\n",
    "Confusion_matrix = []\n",
    "\n",
    "for train, test in kfold.split(X_train, y_train):\n",
    "\n",
    "  # Define the model architecture\n",
    "    Seq_model = Sequential()\n",
    "    Seq_model.add(Embedding(20, output_dim=256))\n",
    "    Seq_model.add(LSTM(128))\n",
    "    Seq_model.add(Dense(64, activation = 'relu'))\n",
    "    Seq_model.add(Dense(1, activation = 'sigmoid'))\n",
    "\n",
    "  # Compile the model\n",
    "    Seq_model.compile(loss = 'binary_crossentropy', optimizer = \"adam\", metrics = ['accuracy'])\n",
    "\n",
    "\n",
    "  # Generate a print\n",
    "    print('------------------------------------------------------------------------')\n",
    "    print(f'Training for fold {fold_no} ...')\n",
    "\n",
    "  # Fit data to model\n",
    "    history = Seq_model.fit(X_train, y_train, batch_size = 10, epochs = 150, verbose = 0)\n",
    "  # Generate generalization metrics\n",
    "    scores = Seq_model.evaluate(X_test, y_test, verbose=0)\n",
    "    print(f'Score for fold {fold_no}: {Seq_model.metrics_names[0]} of {scores[0]}; {Seq_model.metrics_names[1]} of {scores[1]*100}%')\n",
    "\n",
    "    print(Seq_model.evaluate(X_train, y_train))\n",
    "    \n",
    "    acc_per_fold.append(scores[1] * 100)\n",
    "    loss_per_fold.append(scores[0])\n",
    "\n",
    "    y_pred = (Seq_model.predict(X_train) > 0.7).astype(\"int32\")\n",
    "    print_confusion_matrix(y_train, y_pred)\n",
    "\n",
    "    fold_no = fold_no + 1"
   ]
  },
  {
   "cell_type": "code",
   "execution_count": 125,
   "id": "33c02270",
   "metadata": {},
   "outputs": [
    {
     "data": {
      "text/plain": [
       "69.82339918613434"
      ]
     },
     "execution_count": 125,
     "metadata": {},
     "output_type": "execute_result"
    }
   ],
   "source": [
    "result_3 = sum(acc_per_fold) / len(acc_per_fold)\n",
    "result_3"
   ]
  },
  {
   "cell_type": "markdown",
   "id": "d38bb9ac",
   "metadata": {},
   "source": [
    "## Conclution"
   ]
  },
  {
   "cell_type": "code",
   "execution_count": 105,
   "id": "debe7b61",
   "metadata": {},
   "outputs": [],
   "source": [
    "final = [result_1.mean()*100, result_2.mean()*100, result_3]"
   ]
  },
  {
   "cell_type": "code",
   "execution_count": 123,
   "id": "6df2750b",
   "metadata": {},
   "outputs": [
    {
     "data": {
      "text/plain": [
       "[74.32270202973967, 62.93326059283505, 69.82339918613434]"
      ]
     },
     "execution_count": 123,
     "metadata": {},
     "output_type": "execute_result"
    }
   ],
   "source": [
    "final"
   ]
  },
  {
   "cell_type": "code",
   "execution_count": 106,
   "id": "62674e61",
   "metadata": {},
   "outputs": [
    {
     "name": "stdout",
     "output_type": "stream",
     "text": [
      "Here is the table of accuracy for three algorithms\n",
      "Random Forest: 74.32%\n",
      "SVM: 62.93%\n",
      "LSTM: 69.82%\n",
      "\n",
      "Hence, the best model is Random Forest with 74.32% of accuracy\n"
     ]
    }
   ],
   "source": [
    "print(\"Here is the table of accuracy for three algorithms\\n\"\n",
    "      + \"Random Forest: \" + str(round(result_1.mean()*100,2)) +\"%\\n\"\n",
    "      + \"SVM: \" + str(round(result_2.mean()*100,2)) +\"%\\n\"\n",
    "      + \"LSTM: \" + str(round(result_3,2)) +\"%\\n\\n\"\n",
    "      + \"Hence, the best model is Random Forest with \" +  str(round(result_1.mean()*100,2))+ \"% of accuracy\" )"
   ]
  }
 ],
 "metadata": {
  "kernelspec": {
   "display_name": "Python 3",
   "language": "python",
   "name": "python3"
  },
  "language_info": {
   "codemirror_mode": {
    "name": "ipython",
    "version": 3
   },
   "file_extension": ".py",
   "mimetype": "text/x-python",
   "name": "python",
   "nbconvert_exporter": "python",
   "pygments_lexer": "ipython3",
   "version": "3.8.8"
  }
 },
 "nbformat": 4,
 "nbformat_minor": 5
}
